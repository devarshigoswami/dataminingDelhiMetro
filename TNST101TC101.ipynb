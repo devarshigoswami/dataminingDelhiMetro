{
 "cells": [
  {
   "cell_type": "code",
   "execution_count": 1,
   "metadata": {},
   "outputs": [],
   "source": [
    "import pandas as pd\n",
    "from pandas import read_csv\n",
    "from pandas import datetime\n",
    "from pandas.plotting import autocorrelation_plot,lag_plot\n",
    "import matplotlib.pyplot as plt\n",
    "from matplotlib import pyplot\n",
    "import datetime as dt\n",
    "import numpy as np\n",
    "from statsmodels.tsa.arima_model import ARIMA\n",
    "from statsmodels.tsa.stattools import adfuller\n",
    "from statsmodels.tsa.arima_model import ARIMA\n",
    "from math import sqrt\n",
    "from sklearn.metrics import mean_squared_error\n",
    "from sklearn.metrics import mean_squared_error\n",
    "import warnings\n",
    "from bokeh.plotting import figure, output_notebook, show\n",
    "from time import time"
   ]
  },
  {
   "cell_type": "code",
   "execution_count": 2,
   "metadata": {},
   "outputs": [
    {
     "data": {
      "text/plain": [
       "Unnamed: 0             int64\n",
       "TC                    object\n",
       "date          datetime64[ns]\n",
       "lbl                   object\n",
       "datedelta              int64\n",
       "dtype: object"
      ]
     },
     "execution_count": 2,
     "metadata": {},
     "output_type": "execute_result"
    }
   ],
   "source": [
    "t=pd.read_csv(\"Tracesip.csv\")\n",
    "t['date']=pd.to_datetime(t['date'])\n",
    "t.dtypes"
   ]
  },
  {
   "cell_type": "code",
   "execution_count": 3,
   "metadata": {},
   "outputs": [
    {
     "data": {
      "text/html": [
       "<div>\n",
       "<style scoped>\n",
       "    .dataframe tbody tr th:only-of-type {\n",
       "        vertical-align: middle;\n",
       "    }\n",
       "\n",
       "    .dataframe tbody tr th {\n",
       "        vertical-align: top;\n",
       "    }\n",
       "\n",
       "    .dataframe thead th {\n",
       "        text-align: right;\n",
       "    }\n",
       "</style>\n",
       "<table border=\"1\" class=\"dataframe\">\n",
       "  <thead>\n",
       "    <tr style=\"text-align: right;\">\n",
       "      <th></th>\n",
       "      <th>Unnamed: 0</th>\n",
       "      <th>TC</th>\n",
       "      <th>date</th>\n",
       "      <th>lbl</th>\n",
       "      <th>datedelta</th>\n",
       "    </tr>\n",
       "  </thead>\n",
       "  <tbody>\n",
       "    <tr>\n",
       "      <td>0</td>\n",
       "      <td>0</td>\n",
       "      <td>TNST101TC101</td>\n",
       "      <td>2012-03-30</td>\n",
       "      <td>f</td>\n",
       "      <td>0</td>\n",
       "    </tr>\n",
       "    <tr>\n",
       "      <td>1</td>\n",
       "      <td>1</td>\n",
       "      <td>TNST101TC101</td>\n",
       "      <td>2012-03-30</td>\n",
       "      <td>f</td>\n",
       "      <td>0</td>\n",
       "    </tr>\n",
       "    <tr>\n",
       "      <td>2</td>\n",
       "      <td>2</td>\n",
       "      <td>TNST101TC101</td>\n",
       "      <td>2012-03-31</td>\n",
       "      <td>f</td>\n",
       "      <td>1</td>\n",
       "    </tr>\n",
       "    <tr>\n",
       "      <td>3</td>\n",
       "      <td>3</td>\n",
       "      <td>TNST101TC101</td>\n",
       "      <td>2012-04-19</td>\n",
       "      <td>f</td>\n",
       "      <td>19</td>\n",
       "    </tr>\n",
       "    <tr>\n",
       "      <td>4</td>\n",
       "      <td>4</td>\n",
       "      <td>TNST101TC101</td>\n",
       "      <td>2012-04-20</td>\n",
       "      <td>f</td>\n",
       "      <td>1</td>\n",
       "    </tr>\n",
       "    <tr>\n",
       "      <td>...</td>\n",
       "      <td>...</td>\n",
       "      <td>...</td>\n",
       "      <td>...</td>\n",
       "      <td>...</td>\n",
       "      <td>...</td>\n",
       "    </tr>\n",
       "    <tr>\n",
       "      <td>77074</td>\n",
       "      <td>77074</td>\n",
       "      <td>TNST345TC286</td>\n",
       "      <td>2019-11-16</td>\n",
       "      <td>f</td>\n",
       "      <td>0</td>\n",
       "    </tr>\n",
       "    <tr>\n",
       "      <td>77075</td>\n",
       "      <td>77075</td>\n",
       "      <td>TNST345TC293</td>\n",
       "      <td>2019-12-09</td>\n",
       "      <td>f</td>\n",
       "      <td>185</td>\n",
       "    </tr>\n",
       "    <tr>\n",
       "      <td>77076</td>\n",
       "      <td>77076</td>\n",
       "      <td>TNST345TC293</td>\n",
       "      <td>2019-12-09</td>\n",
       "      <td>f</td>\n",
       "      <td>0</td>\n",
       "    </tr>\n",
       "    <tr>\n",
       "      <td>77077</td>\n",
       "      <td>77077</td>\n",
       "      <td>TNST345TC417</td>\n",
       "      <td>2019-06-11</td>\n",
       "      <td>f</td>\n",
       "      <td>1669</td>\n",
       "    </tr>\n",
       "    <tr>\n",
       "      <td>77078</td>\n",
       "      <td>77078</td>\n",
       "      <td>TNST345TC963</td>\n",
       "      <td>2019-10-31</td>\n",
       "      <td>f</td>\n",
       "      <td>1811</td>\n",
       "    </tr>\n",
       "  </tbody>\n",
       "</table>\n",
       "<p>77079 rows × 5 columns</p>\n",
       "</div>"
      ],
      "text/plain": [
       "       Unnamed: 0            TC       date lbl  datedelta\n",
       "0               0  TNST101TC101 2012-03-30   f          0\n",
       "1               1  TNST101TC101 2012-03-30   f          0\n",
       "2               2  TNST101TC101 2012-03-31   f          1\n",
       "3               3  TNST101TC101 2012-04-19   f         19\n",
       "4               4  TNST101TC101 2012-04-20   f          1\n",
       "...           ...           ...        ...  ..        ...\n",
       "77074       77074  TNST345TC286 2019-11-16   f          0\n",
       "77075       77075  TNST345TC293 2019-12-09   f        185\n",
       "77076       77076  TNST345TC293 2019-12-09   f          0\n",
       "77077       77077  TNST345TC417 2019-06-11   f       1669\n",
       "77078       77078  TNST345TC963 2019-10-31   f       1811\n",
       "\n",
       "[77079 rows x 5 columns]"
      ]
     },
     "execution_count": 3,
     "metadata": {},
     "output_type": "execute_result"
    }
   ],
   "source": [
    "t"
   ]
  },
  {
   "cell_type": "code",
   "execution_count": 4,
   "metadata": {},
   "outputs": [
    {
     "data": {
      "text/html": [
       "<div>\n",
       "<style scoped>\n",
       "    .dataframe tbody tr th:only-of-type {\n",
       "        vertical-align: middle;\n",
       "    }\n",
       "\n",
       "    .dataframe tbody tr th {\n",
       "        vertical-align: top;\n",
       "    }\n",
       "\n",
       "    .dataframe thead th {\n",
       "        text-align: right;\n",
       "    }\n",
       "</style>\n",
       "<table border=\"1\" class=\"dataframe\">\n",
       "  <thead>\n",
       "    <tr style=\"text-align: right;\">\n",
       "      <th></th>\n",
       "      <th>date</th>\n",
       "      <th>datedelta</th>\n",
       "    </tr>\n",
       "  </thead>\n",
       "  <tbody>\n",
       "    <tr>\n",
       "      <td>0</td>\n",
       "      <td>2012-03-30</td>\n",
       "      <td>0</td>\n",
       "    </tr>\n",
       "    <tr>\n",
       "      <td>1</td>\n",
       "      <td>2012-03-30</td>\n",
       "      <td>0</td>\n",
       "    </tr>\n",
       "    <tr>\n",
       "      <td>2</td>\n",
       "      <td>2012-03-31</td>\n",
       "      <td>1</td>\n",
       "    </tr>\n",
       "    <tr>\n",
       "      <td>3</td>\n",
       "      <td>2012-04-19</td>\n",
       "      <td>19</td>\n",
       "    </tr>\n",
       "    <tr>\n",
       "      <td>4</td>\n",
       "      <td>2012-04-20</td>\n",
       "      <td>1</td>\n",
       "    </tr>\n",
       "    <tr>\n",
       "      <td>...</td>\n",
       "      <td>...</td>\n",
       "      <td>...</td>\n",
       "    </tr>\n",
       "    <tr>\n",
       "      <td>240</td>\n",
       "      <td>2019-11-08</td>\n",
       "      <td>11</td>\n",
       "    </tr>\n",
       "    <tr>\n",
       "      <td>241</td>\n",
       "      <td>2019-11-14</td>\n",
       "      <td>6</td>\n",
       "    </tr>\n",
       "    <tr>\n",
       "      <td>242</td>\n",
       "      <td>2019-11-14</td>\n",
       "      <td>0</td>\n",
       "    </tr>\n",
       "    <tr>\n",
       "      <td>243</td>\n",
       "      <td>2019-11-24</td>\n",
       "      <td>1</td>\n",
       "    </tr>\n",
       "    <tr>\n",
       "      <td>244</td>\n",
       "      <td>2019-12-07</td>\n",
       "      <td>13</td>\n",
       "    </tr>\n",
       "  </tbody>\n",
       "</table>\n",
       "<p>245 rows × 2 columns</p>\n",
       "</div>"
      ],
      "text/plain": [
       "          date  datedelta\n",
       "0   2012-03-30          0\n",
       "1   2012-03-30          0\n",
       "2   2012-03-31          1\n",
       "3   2012-04-19         19\n",
       "4   2012-04-20          1\n",
       "..         ...        ...\n",
       "240 2019-11-08         11\n",
       "241 2019-11-14          6\n",
       "242 2019-11-14          0\n",
       "243 2019-11-24          1\n",
       "244 2019-12-07         13\n",
       "\n",
       "[245 rows x 2 columns]"
      ]
     },
     "execution_count": 4,
     "metadata": {},
     "output_type": "execute_result"
    }
   ],
   "source": [
    "sc = 'TNST101TC101'\n",
    "t11 = t[t['TC'] == sc]\n",
    "t11=t11.drop(['Unnamed: 0','lbl','TC'],axis=1) \n",
    "t11"
   ]
  },
  {
   "cell_type": "code",
   "execution_count": 5,
   "metadata": {},
   "outputs": [],
   "source": [
    "#try:\n",
    "        #for i in t.index[0:]:\n",
    "            #if  (t.at[i+1, 'TC'] == t.at[i, 'TC']):\n",
    "                #t.at[i+1, 'datedelta2'] = t.at[i+1, 'date'] - t.at[i, 'date']\n",
    "         #   else : i+=1\n",
    "                    \n",
    "#except KeyError:\n",
    " #       print(\"last key parsed\")"
   ]
  },
  {
   "cell_type": "code",
   "execution_count": 6,
   "metadata": {},
   "outputs": [],
   "source": [
    "t11['adate']=t11['datedelta'].shift(-1)   #date and number of days after which next error in a TNST101TC101 can occur "
   ]
  },
  {
   "cell_type": "code",
   "execution_count": 7,
   "metadata": {},
   "outputs": [
    {
     "data": {
      "text/plain": [
       "<matplotlib.collections.PathCollection at 0x7efd5c713c50>"
      ]
     },
     "execution_count": 7,
     "metadata": {},
     "output_type": "execute_result"
    },
    {
     "data": {
      "image/png": "[encoded data removed]",
      "text/plain": [
       "<Figure size 1296x360 with 1 Axes>"
      ]
     },
     "metadata": {
      "needs_background": "light"
     },
     "output_type": "display_data"
    }
   ],
   "source": [
    "plt.rcParams['figure.figsize'] = [18, 5]  \n",
    "t11.plot(kind='line',x='date',y='adate',color='red')\n",
    "plt.xlabel('date')\n",
    "plt.ylabel('TNST101TC101datedelta')\n",
    "plt.scatter(x=t11['date'],y=t11['adate'])  #more nested datapoints in plot= more errors occuring frequently"
   ]
  },
  {
   "cell_type": "code",
   "execution_count": 8,
   "metadata": {},
   "outputs": [
    {
     "data": {
      "text/html": [
       "<div>\n",
       "<style scoped>\n",
       "    .dataframe tbody tr th:only-of-type {\n",
       "        vertical-align: middle;\n",
       "    }\n",
       "\n",
       "    .dataframe tbody tr th {\n",
       "        vertical-align: top;\n",
       "    }\n",
       "\n",
       "    .dataframe thead th {\n",
       "        text-align: right;\n",
       "    }\n",
       "</style>\n",
       "<table border=\"1\" class=\"dataframe\">\n",
       "  <thead>\n",
       "    <tr style=\"text-align: right;\">\n",
       "      <th></th>\n",
       "      <th>date</th>\n",
       "      <th>adate</th>\n",
       "    </tr>\n",
       "  </thead>\n",
       "  <tbody>\n",
       "    <tr>\n",
       "      <td>0</td>\n",
       "      <td>2012-03-30</td>\n",
       "      <td>0.0</td>\n",
       "    </tr>\n",
       "    <tr>\n",
       "      <td>1</td>\n",
       "      <td>2012-03-30</td>\n",
       "      <td>1.0</td>\n",
       "    </tr>\n",
       "    <tr>\n",
       "      <td>2</td>\n",
       "      <td>2012-03-31</td>\n",
       "      <td>19.0</td>\n",
       "    </tr>\n",
       "    <tr>\n",
       "      <td>3</td>\n",
       "      <td>2012-04-19</td>\n",
       "      <td>1.0</td>\n",
       "    </tr>\n",
       "    <tr>\n",
       "      <td>4</td>\n",
       "      <td>2012-04-20</td>\n",
       "      <td>1.0</td>\n",
       "    </tr>\n",
       "    <tr>\n",
       "      <td>...</td>\n",
       "      <td>...</td>\n",
       "      <td>...</td>\n",
       "    </tr>\n",
       "    <tr>\n",
       "      <td>240</td>\n",
       "      <td>2019-11-08</td>\n",
       "      <td>6.0</td>\n",
       "    </tr>\n",
       "    <tr>\n",
       "      <td>241</td>\n",
       "      <td>2019-11-14</td>\n",
       "      <td>0.0</td>\n",
       "    </tr>\n",
       "    <tr>\n",
       "      <td>242</td>\n",
       "      <td>2019-11-14</td>\n",
       "      <td>1.0</td>\n",
       "    </tr>\n",
       "    <tr>\n",
       "      <td>243</td>\n",
       "      <td>2019-11-24</td>\n",
       "      <td>13.0</td>\n",
       "    </tr>\n",
       "    <tr>\n",
       "      <td>244</td>\n",
       "      <td>2019-12-07</td>\n",
       "      <td>NaN</td>\n",
       "    </tr>\n",
       "  </tbody>\n",
       "</table>\n",
       "<p>245 rows × 2 columns</p>\n",
       "</div>"
      ],
      "text/plain": [
       "          date  adate\n",
       "0   2012-03-30    0.0\n",
       "1   2012-03-30    1.0\n",
       "2   2012-03-31   19.0\n",
       "3   2012-04-19    1.0\n",
       "4   2012-04-20    1.0\n",
       "..         ...    ...\n",
       "240 2019-11-08    6.0\n",
       "241 2019-11-14    0.0\n",
       "242 2019-11-14    1.0\n",
       "243 2019-11-24   13.0\n",
       "244 2019-12-07    NaN\n",
       "\n",
       "[245 rows x 2 columns]"
      ]
     },
     "execution_count": 8,
     "metadata": {},
     "output_type": "execute_result"
    }
   ],
   "source": [
    "t11.datedelta.mean()\n",
    "t111=t11.copy()\n",
    "t111=t111.drop(['datedelta'],axis=1)\n",
    "t111"
   ]
  },
  {
   "cell_type": "code",
   "execution_count": 9,
   "metadata": {},
   "outputs": [
    {
     "data": {
      "text/html": [
       "<div>\n",
       "<style scoped>\n",
       "    .dataframe tbody tr th:only-of-type {\n",
       "        vertical-align: middle;\n",
       "    }\n",
       "\n",
       "    .dataframe tbody tr th {\n",
       "        vertical-align: top;\n",
       "    }\n",
       "\n",
       "    .dataframe thead th {\n",
       "        text-align: right;\n",
       "    }\n",
       "</style>\n",
       "<table border=\"1\" class=\"dataframe\">\n",
       "  <thead>\n",
       "    <tr style=\"text-align: right;\">\n",
       "      <th></th>\n",
       "      <th>adate</th>\n",
       "    </tr>\n",
       "    <tr>\n",
       "      <th>date</th>\n",
       "      <th></th>\n",
       "    </tr>\n",
       "  </thead>\n",
       "  <tbody>\n",
       "    <tr>\n",
       "      <td>2012-03-30</td>\n",
       "      <td>0.5</td>\n",
       "    </tr>\n",
       "    <tr>\n",
       "      <td>2012-03-31</td>\n",
       "      <td>19.0</td>\n",
       "    </tr>\n",
       "    <tr>\n",
       "      <td>2012-04-01</td>\n",
       "      <td>18.1</td>\n",
       "    </tr>\n",
       "    <tr>\n",
       "      <td>2012-04-02</td>\n",
       "      <td>17.1</td>\n",
       "    </tr>\n",
       "    <tr>\n",
       "      <td>2012-04-03</td>\n",
       "      <td>16.2</td>\n",
       "    </tr>\n",
       "    <tr>\n",
       "      <td>...</td>\n",
       "      <td>...</td>\n",
       "    </tr>\n",
       "    <tr>\n",
       "      <td>2019-12-03</td>\n",
       "      <td>13.0</td>\n",
       "    </tr>\n",
       "    <tr>\n",
       "      <td>2019-12-04</td>\n",
       "      <td>13.0</td>\n",
       "    </tr>\n",
       "    <tr>\n",
       "      <td>2019-12-05</td>\n",
       "      <td>13.0</td>\n",
       "    </tr>\n",
       "    <tr>\n",
       "      <td>2019-12-06</td>\n",
       "      <td>13.0</td>\n",
       "    </tr>\n",
       "    <tr>\n",
       "      <td>2019-12-07</td>\n",
       "      <td>13.0</td>\n",
       "    </tr>\n",
       "  </tbody>\n",
       "</table>\n",
       "<p>2809 rows × 1 columns</p>\n",
       "</div>"
      ],
      "text/plain": [
       "            adate\n",
       "date             \n",
       "2012-03-30    0.5\n",
       "2012-03-31   19.0\n",
       "2012-04-01   18.1\n",
       "2012-04-02   17.1\n",
       "2012-04-03   16.2\n",
       "...           ...\n",
       "2019-12-03   13.0\n",
       "2019-12-04   13.0\n",
       "2019-12-05   13.0\n",
       "2019-12-06   13.0\n",
       "2019-12-07   13.0\n",
       "\n",
       "[2809 rows x 1 columns]"
      ]
     },
     "execution_count": 9,
     "metadata": {},
     "output_type": "execute_result"
    }
   ],
   "source": [
    "df_rs = t111.set_index('date').resample('D').mean().interpolate('linear').round(1) #resample according to Days and linear inetrpolate and round values\n",
    "df_rs"
   ]
  },
  {
   "cell_type": "code",
   "execution_count": 10,
   "metadata": {},
   "outputs": [],
   "source": [
    "#bokeh library used here , plot will be shown in different tab\n",
    "p = figure(x_axis_type=\"datetime\", width=800, height=500)\n",
    "\n",
    "p.title.text = \"adate vs. Date Time (linear interpolated to 1D)\"\n",
    "p.xaxis.axis_label = 'Date Time (linear interpolated to to 1D)'\n",
    "p.yaxis.axis_label = 'adate(next probable occurance of failure)'\n",
    "\n",
    "# orig data\n",
    "p.circle(t111['date'], t111['adate'], color='red', size=10)\n",
    "\n",
    "# oversampled data\n",
    "p.circle(df_rs.index, df_rs['adate'])\n",
    "p.line(df_rs.index, df_rs['adate'])\n",
    "\n",
    "show(p)"
   ]
  },
  {
   "cell_type": "code",
   "execution_count": 11,
   "metadata": {},
   "outputs": [
    {
     "data": {
      "text/plain": [
       "array([ 0.5, 19. , 18.1, ..., 13. , 13. , 13. ])"
      ]
     },
     "execution_count": 11,
     "metadata": {},
     "output_type": "execute_result"
    }
   ],
   "source": [
    "X = df_rs.iloc[:,0].values\n",
    "X"
   ]
  },
  {
   "cell_type": "code",
   "execution_count": 12,
   "metadata": {},
   "outputs": [
    {
     "name": "stdout",
     "output_type": "stream",
     "text": [
      "ADF Statistic: -4.453993\n",
      "p-value: 0.000238\n",
      "Critical Values:\n",
      "\t1%: -3.433\n",
      "\t5%: -2.863\n",
      "\t10%: -2.567\n"
     ]
    }
   ],
   "source": [
    "result=adfuller(X)\n",
    "pd.DataFrame(result)\n",
    "print('ADF Statistic: %f' % result[0])\n",
    "print('p-value: %f' % result[1])\n",
    "print('Critical Values:')\n",
    "for key, value in result[4].items():\n",
    "\tprint('\\t%s: %.3f' % (key, value))"
   ]
  },
  {
   "cell_type": "code",
   "execution_count": 13,
   "metadata": {},
   "outputs": [],
   "source": [
    "df_rs            #has no unit root, and in turn that the time series is stationary or does not have time-dependent structure.\n",
    "df_rs.to_csv(\"df_rs.csv\")"
   ]
  },
  {
   "cell_type": "code",
   "execution_count": 14,
   "metadata": {},
   "outputs": [
    {
     "data": {
      "image/png": "[encoded data removed]",
      "text/plain": [
       "<Figure size 1152x1080 with 1 Axes>"
      ]
     },
     "metadata": {
      "needs_background": "light"
     },
     "output_type": "display_data"
    }
   ],
   "source": [
    "plt.rcParams['figure.figsize'] = [16 ,15]  \n",
    "ax=autocorrelation_plot(df_rs) \n",
    "plt.savefig('autocorrplot.png')   #there is a positive correlation with the first 150 lags that is perhaps significant for the first 120-130 lags.\n",
    "ax.xaxis.set_major_locator(plt.MaxNLocator(30)) #dashed line is 99% confidence band\n",
    "plt.show()"
   ]
  },
  {
   "cell_type": "code",
   "execution_count": 15,
   "metadata": {},
   "outputs": [
    {
     "data": {
      "image/png": "[encoded data removed]",
      "text/plain": [
       "<Figure size 360x360 with 1 Axes>"
      ]
     },
     "metadata": {
      "needs_background": "light"
     },
     "output_type": "display_data"
    }
   ],
   "source": [
    "plt.rcParams['figure.figsize'] = [5, 5]  \n",
    "lag_plot(df_rs)  #shows our Data has High Autocorrelation\n",
    "plt.savefig('/home/devarshi/Desktop/lagplot.png')"
   ]
  },
  {
   "cell_type": "code",
   "execution_count": 16,
   "metadata": {},
   "outputs": [
    {
     "data": {
      "image/png": "[encoded data removed]",
      "text/plain": [
       "<Figure size 360x360 with 1 Axes>"
      ]
     },
     "metadata": {
      "needs_background": "light"
     },
     "output_type": "display_data"
    }
   ],
   "source": [
    "import pmdarima as pm\n",
    "pm.plot_acf(df_rs)"
   ]
  },
  {
   "cell_type": "code",
   "execution_count": 17,
   "metadata": {},
   "outputs": [
    {
     "data": {
      "image/png": "[encoded data removed]",
      "text/plain": [
       "<Figure size 360x360 with 1 Axes>"
      ]
     },
     "metadata": {
      "needs_background": "light"
     },
     "output_type": "display_data"
    }
   ],
   "source": [
    "import pmdarima as pm\n",
    "# Plot an auto-correlation:\n",
    "pm.plot_acf(pm.acf(X))"
   ]
  },
  {
   "cell_type": "code",
   "execution_count": 18,
   "metadata": {},
   "outputs": [
    {
     "name": "stdout",
     "output_type": "stream",
     "text": [
      "Performing stepwise search to minimize aic\n",
      "Fit ARIMA: (1, 1, 1)x(0, 0, 0, 0) (constant=True); AIC=14983.248, BIC=15007.009, Time=0.444 seconds\n",
      "Fit ARIMA: (0, 1, 0)x(0, 0, 0, 0) (constant=True); AIC=15012.135, BIC=15024.016, Time=0.044 seconds\n",
      "Fit ARIMA: (1, 1, 0)x(0, 0, 0, 0) (constant=True); AIC=14986.692, BIC=15004.513, Time=0.177 seconds\n",
      "Fit ARIMA: (0, 1, 1)x(0, 0, 0, 0) (constant=True); AIC=14988.730, BIC=15006.550, Time=0.177 seconds\n",
      "Fit ARIMA: (0, 1, 0)x(0, 0, 0, 0) (constant=False); AIC=15010.140, BIC=15016.080, Time=0.036 seconds\n",
      "Fit ARIMA: (2, 1, 1)x(0, 0, 0, 0) (constant=True); AIC=14985.141, BIC=15014.843, Time=0.630 seconds\n",
      "Fit ARIMA: (1, 1, 2)x(0, 0, 0, 0) (constant=True); AIC=14985.140, BIC=15014.841, Time=0.878 seconds\n",
      "Fit ARIMA: (0, 1, 2)x(0, 0, 0, 0) (constant=True); AIC=14985.857, BIC=15009.618, Time=0.402 seconds\n",
      "Fit ARIMA: (2, 1, 0)x(0, 0, 0, 0) (constant=True); AIC=14984.779, BIC=15008.539, Time=0.311 seconds\n",
      "Fit ARIMA: (2, 1, 2)x(0, 0, 0, 0) (constant=True); AIC=14987.135, BIC=15022.776, Time=1.200 seconds\n",
      "Total fit time: 4.302 seconds\n"
     ]
    }
   ],
   "source": [
    "# fit stepwise auto-ARIMA\n",
    "stepwise_fit = pm.auto_arima(df_rs, start_p=1, start_q=1,\n",
    "                             max_p=3, max_q=3, m=12,\n",
    "                             start_P=0, seasonal=False,\n",
    "                             d=1, D=1, trace=True,\n",
    "                             error_action='ignore',  # don't want to know if an order does not work\n",
    "                             suppress_warnings=True,  # don't want convergence warnings\n",
    "                             stepwise=True)  # set to stepwise"
   ]
  },
  {
   "cell_type": "code",
   "execution_count": 19,
   "metadata": {},
   "outputs": [
    {
     "data": {
      "text/html": [
       "<table class=\"simpletable\">\n",
       "<caption>SARIMAX Results</caption>\n",
       "<tr>\n",
       "  <th>Dep. Variable:</th>           <td>y</td>        <th>  No. Observations:  </th>   <td>2809</td>   \n",
       "</tr>\n",
       "<tr>\n",
       "  <th>Model:</th>           <td>SARIMAX(1, 1, 1)</td> <th>  Log Likelihood     </th> <td>-7487.624</td>\n",
       "</tr>\n",
       "<tr>\n",
       "  <th>Date:</th>            <td>Wed, 19 Feb 2020</td> <th>  AIC                </th> <td>14983.248</td>\n",
       "</tr>\n",
       "<tr>\n",
       "  <th>Time:</th>                <td>14:37:09</td>     <th>  BIC                </th> <td>15007.009</td>\n",
       "</tr>\n",
       "<tr>\n",
       "  <th>Sample:</th>                  <td>0</td>        <th>  HQIC               </th> <td>14991.824</td>\n",
       "</tr>\n",
       "<tr>\n",
       "  <th></th>                      <td> - 2809</td>     <th>                     </th>     <td> </td>    \n",
       "</tr>\n",
       "<tr>\n",
       "  <th>Covariance Type:</th>        <td>opg</td>       <th>                     </th>     <td> </td>    \n",
       "</tr>\n",
       "</table>\n",
       "<table class=\"simpletable\">\n",
       "<tr>\n",
       "      <td></td>         <th>coef</th>     <th>std err</th>      <th>z</th>      <th>P>|z|</th>  <th>[0.025</th>    <th>0.975]</th>  \n",
       "</tr>\n",
       "<tr>\n",
       "  <th>intercept</th> <td>    0.0027</td> <td>    0.075</td> <td>    0.036</td> <td> 0.971</td> <td>   -0.144</td> <td>    0.149</td>\n",
       "</tr>\n",
       "<tr>\n",
       "  <th>ar.L1</th>     <td>    0.5262</td> <td>    0.120</td> <td>    4.389</td> <td> 0.000</td> <td>    0.291</td> <td>    0.761</td>\n",
       "</tr>\n",
       "<tr>\n",
       "  <th>ma.L1</th>     <td>   -0.4335</td> <td>    0.121</td> <td>   -3.590</td> <td> 0.000</td> <td>   -0.670</td> <td>   -0.197</td>\n",
       "</tr>\n",
       "<tr>\n",
       "  <th>sigma2</th>    <td>   12.1239</td> <td>    0.030</td> <td>  409.019</td> <td> 0.000</td> <td>   12.066</td> <td>   12.182</td>\n",
       "</tr>\n",
       "</table>\n",
       "<table class=\"simpletable\">\n",
       "<tr>\n",
       "  <th>Ljung-Box (Q):</th>          <td>3.46</td> <th>  Jarque-Bera (JB):  </th> <td>119326278.72</td>\n",
       "</tr>\n",
       "<tr>\n",
       "  <th>Prob(Q):</th>                <td>1.00</td> <th>  Prob(JB):          </th>     <td>0.00</td>    \n",
       "</tr>\n",
       "<tr>\n",
       "  <th>Heteroskedasticity (H):</th> <td>3.77</td> <th>  Skew:              </th>     <td>27.29</td>   \n",
       "</tr>\n",
       "<tr>\n",
       "  <th>Prob(H) (two-sided):</th>    <td>0.00</td> <th>  Kurtosis:          </th>    <td>1011.42</td>  \n",
       "</tr>\n",
       "</table><br/><br/>Warnings:<br/>[1] Covariance matrix calculated using the outer product of gradients (complex-step)."
      ],
      "text/plain": [
       "<class 'statsmodels.iolib.summary.Summary'>\n",
       "\"\"\"\n",
       "                               SARIMAX Results                                \n",
       "==============================================================================\n",
       "Dep. Variable:                      y   No. Observations:                 2809\n",
       "Model:               SARIMAX(1, 1, 1)   Log Likelihood               -7487.624\n",
       "Date:                Wed, 19 Feb 2020   AIC                          14983.248\n",
       "Time:                        14:37:09   BIC                          15007.009\n",
       "Sample:                             0   HQIC                         14991.824\n",
       "                               - 2809                                         \n",
       "Covariance Type:                  opg                                         \n",
       "==============================================================================\n",
       "                 coef    std err          z      P>|z|      [0.025      0.975]\n",
       "------------------------------------------------------------------------------\n",
       "intercept      0.0027      0.075      0.036      0.971      -0.144       0.149\n",
       "ar.L1          0.5262      0.120      4.389      0.000       0.291       0.761\n",
       "ma.L1         -0.4335      0.121     -3.590      0.000      -0.670      -0.197\n",
       "sigma2        12.1239      0.030    409.019      0.000      12.066      12.182\n",
       "===================================================================================\n",
       "Ljung-Box (Q):                        3.46   Jarque-Bera (JB):         119326278.72\n",
       "Prob(Q):                              1.00   Prob(JB):                         0.00\n",
       "Heteroskedasticity (H):               3.77   Skew:                            27.29\n",
       "Prob(H) (two-sided):                  0.00   Kurtosis:                      1011.42\n",
       "===================================================================================\n",
       "\n",
       "Warnings:\n",
       "[1] Covariance matrix calculated using the outer product of gradients (complex-step).\n",
       "\"\"\""
      ]
     },
     "execution_count": 19,
     "metadata": {},
     "output_type": "execute_result"
    }
   ],
   "source": [
    "stepwise_fit.summary()"
   ]
  },
  {
   "cell_type": "code",
   "execution_count": 20,
   "metadata": {},
   "outputs": [
    {
     "data": {
      "text/plain": [
       "(array([[ 0.5],\n",
       "        [19. ],\n",
       "        [18.1],\n",
       "        ...,\n",
       "        [13. ],\n",
       "        [13. ],\n",
       "        [13. ]]), array([ 0.5, 19. , 18.1, ..., 13. , 13. , 13. ]))"
      ]
     },
     "execution_count": 20,
     "metadata": {},
     "output_type": "execute_result"
    }
   ],
   "source": [
    "df_rs.values,X"
   ]
  },
  {
   "cell_type": "code",
   "execution_count": 21,
   "metadata": {},
   "outputs": [],
   "source": [
    "size = int(len(X) * 0.5)\n",
    "train, test = X[0:size], X[size:len(X)]\n",
    "history = [x for x in train]\n",
    "predictions = list()"
   ]
  },
  {
   "cell_type": "code",
   "execution_count": 34,
   "metadata": {},
   "outputs": [
    {
     "data": {
      "text/plain": [
       "array([ 0.5, 19. , 18.1, ..., 13. , 13. , 13. ])"
      ]
     },
     "execution_count": 34,
     "metadata": {},
     "output_type": "execute_result"
    }
   ],
   "source": [
    "X"
   ]
  },
  {
   "cell_type": "code",
   "execution_count": 22,
   "metadata": {},
   "outputs": [
    {
     "data": {
      "text/plain": [
       "(1405, 1404)"
      ]
     },
     "execution_count": 22,
     "metadata": {},
     "output_type": "execute_result"
    }
   ],
   "source": [
    "len(test),len(train)"
   ]
  },
  {
   "cell_type": "code",
   "execution_count": 23,
   "metadata": {},
   "outputs": [
    {
     "name": "stderr",
     "output_type": "stream",
     "text": [
      "/home/devarshi/anaconda3/lib/python3.7/site-packages/statsmodels/base/model.py:568: ConvergenceWarning: Maximum Likelihood optimization failed to converge. Check mle_retvals\n",
      "  \"Check mle_retvals\", ConvergenceWarning)\n"
     ]
    },
    {
     "name": "stdout",
     "output_type": "stream",
     "text": [
      "predicted=13.004664, expected=13.000000\n",
      "Test MSE: 19.088\n"
     ]
    }
   ],
   "source": [
    "#walk forward validation\n",
    "for t in range(len(test)):\n",
    "    model = ARIMA(history, order=(1,1,0))\n",
    "    model_fit = model.fit(disp=0)\n",
    "    output = model_fit.forecast()\n",
    "    yhat = output[0]\n",
    "    predictions.append(yhat)  # forecasted predictions on previous history=train step\n",
    "    \n",
    "    obs = test[t]\n",
    "    history.append(obs)          #history now contains next data point\n",
    "print('predicted=%f, expected=%f' % (yhat, obs))\n",
    "error = mean_squared_error(test, predictions)\n",
    "print('Test MSE: %.3f' % error)"
   ]
  },
  {
   "cell_type": "code",
   "execution_count": 24,
   "metadata": {},
   "outputs": [
    {
     "data": {
      "text/plain": [
       "(2809, 1405)"
      ]
     },
     "execution_count": 24,
     "metadata": {},
     "output_type": "execute_result"
    }
   ],
   "source": [
    "len(history),len(predictions)"
   ]
  },
  {
   "cell_type": "code",
   "execution_count": 33,
   "metadata": {},
   "outputs": [
    {
     "data": {
      "text/plain": [
       "(array([13.00466448]),\n",
       " array([3.48594758]),\n",
       " array([[ 6.17233277, 19.83699619]]))"
      ]
     },
     "execution_count": 33,
     "metadata": {},
     "output_type": "execute_result"
    }
   ],
   "source": [
    "output"
   ]
  },
  {
   "cell_type": "code",
   "execution_count": 32,
   "metadata": {},
   "outputs": [
    {
     "data": {
      "text/plain": [
       "[<matplotlib.lines.Line2D at 0x7efd40d88710>]"
      ]
     },
     "execution_count": 32,
     "metadata": {},
     "output_type": "execute_result"
    },
    {
     "data": {
      "image/png": "[encoded data removed]",
      "text/plain": [
       "<Figure size 1296x360 with 1 Axes>"
      ]
     },
     "metadata": {
      "needs_background": "light"
     },
     "output_type": "display_data"
    }
   ],
   "source": [
    "# plot\n",
    "plt.rcParams['figure.figsize'] = [18, 5] \n",
    "pyplot.plot(predictions, color='red')\n",
    "pyplot.plot(test)"
   ]
  },
  {
   "cell_type": "code",
   "execution_count": 28,
   "metadata": {},
   "outputs": [
    {
     "name": "stdout",
     "output_type": "stream",
     "text": [
      "                              ARMA Model Results                              \n",
      "==============================================================================\n",
      "Dep. Variable:                  adate   No. Observations:                 2809\n",
      "Model:                     ARMA(1, 0)   Log Likelihood               -7501.230\n",
      "Method:                       css-mle   S.D. of innovations              3.493\n",
      "Date:                Wed, 19 Feb 2020   AIC                          15008.460\n",
      "Time:                        14:40:55   BIC                          15026.282\n",
      "Sample:                    03-30-2012   HQIC                         15014.892\n",
      "                         - 12-07-2019                                         \n",
      "===============================================================================\n",
      "                  coef    std err          z      P>|z|      [0.025      0.975]\n",
      "-------------------------------------------------------------------------------\n",
      "const          21.1059      6.151      3.431      0.001       9.049      33.162\n",
      "ar.L1.adate     0.9896      0.003    374.435      0.000       0.984       0.995\n",
      "                                    Roots                                    \n",
      "=============================================================================\n",
      "                  Real          Imaginary           Modulus         Frequency\n",
      "-----------------------------------------------------------------------------\n",
      "AR.1            1.0105           +0.0000j            1.0105            0.0000\n",
      "-----------------------------------------------------------------------------\n"
     ]
    },
    {
     "data": {
      "image/png": "[encoded data removed]",
      "text/plain": [
       "<Figure size 1296x360 with 1 Axes>"
      ]
     },
     "metadata": {
      "needs_background": "light"
     },
     "output_type": "display_data"
    },
    {
     "data": {
      "image/png": "[encoded data removed]",
      "text/plain": [
       "<Figure size 1296x360 with 1 Axes>"
      ]
     },
     "metadata": {
      "needs_background": "light"
     },
     "output_type": "display_data"
    },
    {
     "name": "stdout",
     "output_type": "stream",
     "text": [
      "                 0\n",
      "count  2809.000000\n",
      "mean      0.007257\n",
      "std       3.514874\n",
      "min     -20.605880\n",
      "25%      -0.885141\n",
      "50%      -0.583065\n",
      "75%       0.045986\n",
      "max     140.791390\n"
     ]
    }
   ],
   "source": [
    "#fit model and find residual errors (expected-predicted)\n",
    "model = ARIMA(df_rs, order=(1,0,0))\n",
    "model_fit = model.fit(disp=0)\n",
    "print(model_fit.summary())\n",
    "plt.rcParams['figure.figsize'] = [18, 5]  \n",
    "# plot residual errors\n",
    "residuals = pd.DataFrame(model_fit.resid)\n",
    "residuals.plot()\n",
    "pyplot.show()\n",
    "# the residual plot suggests that there is still be some trend information not captured by the model.\n",
    "residuals.plot(kind='kde')\n",
    "pyplot.show()\n",
    "print(residuals.describe())    #results show that there is a bias in the prediction (a non-zero mean in the residuals)"
   ]
  },
  {
   "cell_type": "code",
   "execution_count": null,
   "metadata": {},
   "outputs": [],
   "source": [
    "# evaluate parameters\n",
    "#p_values = [0, 1, 2, 4, 6, 8, 10]\n",
    "#d_values = range(0, 3)\n",
    "#q_values = range(0, 3)\n",
    "#warnings.filterwarnings(\"ignore\")\n",
    "#evaluate_models(X, p_values, d_values, q_values)"
   ]
  },
  {
   "cell_type": "code",
   "execution_count": null,
   "metadata": {},
   "outputs": [],
   "source": [
    "# walk-forward validation\n",
    "for t in range(len(test)):\n",
    "\t# fit model\n",
    "\tmodel = ARIMA(history, order=(4,1,0))\n",
    "\tmodel_fit = model.fit()\n",
    "\t# one step forecast\n",
    "\tyhat = model_fit.forecast()[0]\n",
    "\t# store forecast and ob\n",
    "\tpredictions.append(yhat)\n",
    "\thistory.append(test[t])\n",
    "# evaluate forecasts\n",
    "rmse = sqrt(mean_squared_error(test, predictions))\n",
    "print('Test RMSE: %.3f' % rmse)\n",
    "# plot forecasts against actual outcomes\n",
    "pyplot.plot(test)\n",
    "pyplot.plot(predictions, color='red')\n",
    "pyplot.show()"
   ]
  },
  {
   "cell_type": "code",
   "execution_count": null,
   "metadata": {},
   "outputs": [],
   "source": [
    "#The solver parameter specifies the numerical optimization method to fit the coefficients to the data."
   ]
  },
  {
   "cell_type": "code",
   "execution_count": null,
   "metadata": {},
   "outputs": [],
   "source": []
  },
  {
   "cell_type": "code",
   "execution_count": null,
   "metadata": {},
   "outputs": [],
   "source": []
  },
  {
   "cell_type": "code",
   "execution_count": null,
   "metadata": {},
   "outputs": [],
   "source": []
  },
  {
   "cell_type": "code",
   "execution_count": null,
   "metadata": {},
   "outputs": [],
   "source": [
    "# evaluate an ARIMA model for a given order (p,d,q)\n",
    "def evaluate_arima_model(X, arima_order):\n",
    "    # prepare training dataset\n",
    "    train_size = int(len(X) * 0.66)\n",
    "    train, test = X[0:train_size], X[train_size:]\n",
    "    history = [x for x in train]\n",
    "    # make predictions\n",
    "    predictions = list()\n",
    "    for t in range(len(test)):\n",
    "        model = ARIMA(history, order=arima_order)\n",
    "        model_fit = model.fit(disp=0)\n",
    "        yhat = model_fit.forecast()[0]\n",
    "        predictions.append(yhat)\n",
    "        history.append(test[t])\n",
    "    # calculate out of sample error\n",
    "    error = mean_squared_error(test, predictions)\n",
    "    return error\n",
    " \n",
    "# evaluate combinations of p, d and q values for an ARIMA model\n",
    "def evaluate_models(dataset, p_values, d_values, q_values):\n",
    "    dataset = dataset.astype('float32')\n",
    "    best_score, best_cfg = float(\"inf\"), None\n",
    "    for p in p_values:\n",
    "        for d in d_values:\n",
    "            for q in q_values:\n",
    "                order = (p,d,q)\n",
    "                try:\n",
    "                    mse = evaluate_arima_model(dataset, order)\n",
    "                    if mse < best_score:\n",
    "                        best_score, best_cfg = mse, order\n",
    "                    print('ARIMA%s MSE=%.3f' % (order,mse))\n",
    "                except:\n",
    "                    continue\n",
    "    print('Best ARIMA%s MSE=%.3f' % (best_cfg, best_score))\n",
    " \n"
   ]
  },
  {
   "cell_type": "code",
   "execution_count": null,
   "metadata": {},
   "outputs": [],
   "source": [
    "from pandas import read_csv\n",
    "from pandas import datetime\n",
    "from matplotlib import pyplot\n",
    "from statsmodels.tsa.arima_model import ARIMA\n",
    "from sklearn.metrics import mean_squared_error\n",
    "from math import sqrt\n",
    "from time import time\n",
    "# solvers\n",
    "solvers = ['lbfgs', 'bfgs', 'newton', 'nm', 'cg', 'ncg', 'powell']\n",
    "scores = []\n",
    "times = []\n",
    "for solver in solvers:\n",
    "\tstart_time = time()\n",
    "\thistory = [x for x in train]\n",
    "\tpredictions = list()\n",
    "\t# walk-forward validation\n",
    "\tfor t in range(len(test)):\n",
    "\t\t# fit model\n",
    "\t\tmodel = ARIMA(history, order=(1,0,0))\n",
    "\t\tmodel_fit = model.fit(disp=False, solver=solver)\n",
    "\t\t# one step forecast\n",
    "\t\tyhat = model_fit.forecast()[0]\n",
    "\t\t# store forecast and ob\n",
    "\t\tpredictions.append(yhat)\n",
    "\t\thistory.append(test[t])\n",
    "\t# evaluate forecasts\n",
    "\trmse = sqrt(mean_squared_error(test, predictions))\n",
    "\ttiming = time() - start_time\n",
    "\tscores.append(rmse)\n",
    "\ttimes.append(timing)\n",
    "\tprint('Solver=%s, Test RMSE: %.3f, Time=%f' % (solver, rmse, timing))\n",
    "# plot scores\n",
    "ticks = [i for i in range(len(solvers))]\n",
    "pyplot.bar(ticks, scores)\n",
    "pyplot.xticks(ticks, solvers)\n",
    "pyplot.show()\n",
    "# plot times\n",
    "ticks = [i for i in range(len(solvers))]\n",
    "pyplot.bar(ticks, times)\n",
    "pyplot.xticks(ticks, solvers)\n",
    "pyplot.show()"
   ]
  },
  {
   "cell_type": "code",
   "execution_count": null,
   "metadata": {},
   "outputs": [],
   "source": []
  }
 ],
 "metadata": {
  "kernelspec": {
   "display_name": "Python 3",
   "language": "python",
   "name": "python3"
  },
  "language_info": {
   "codemirror_mode": {
    "name": "ipython",
    "version": 3
   },
   "file_extension": ".py",
   "mimetype": "text/x-python",
   "name": "python",
   "nbconvert_exporter": "python",
   "pygments_lexer": "ipython3",
   "version": "3.7.4"
  }
 },
 "nbformat": 4,
 "nbformat_minor": 4
}
